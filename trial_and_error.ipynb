{
 "cells": [
  {
   "cell_type": "code",
   "execution_count": 3,
   "metadata": {},
   "outputs": [],
   "source": [
    "import time\n",
    "# import gym\n",
    "# import gym_cap\n",
    "import numpy as np\n",
    "\n",
    "# from .const_copied import *\n",
    "\n"
   ]
  },
  {
   "cell_type": "code",
   "execution_count": 7,
   "metadata": {},
   "outputs": [],
   "source": [
    "dict_= {(0,0): 'a',\n",
    "        (1,0): 'b',\n",
    "        (1,1): 'c',\n",
    "        (_,2): 'd',\n",
    "       }"
   ]
  },
  {
   "cell_type": "code",
   "execution_count": 9,
   "metadata": {},
   "outputs": [
    {
     "data": {
      "text/plain": [
       "'a'"
      ]
     },
     "execution_count": 9,
     "metadata": {},
     "output_type": "execute_result"
    }
   ],
   "source": [
    "dict_[(0,0)]"
   ]
  },
  {
   "cell_type": "code",
   "execution_count": 15,
   "metadata": {},
   "outputs": [
    {
     "name": "stdout",
     "output_type": "stream",
     "text": [
      "-1\n"
     ]
    }
   ],
   "source": [
    "print(dict_.get((2,0), -1))"
   ]
  },
  {
   "cell_type": "code",
   "execution_count": 16,
   "metadata": {},
   "outputs": [
    {
     "name": "stdout",
     "output_type": "stream",
     "text": [
      "{(1, 0): 'b', (0, 0): 'a', (1, 1): 'c', ('', 2): 'd'}\n"
     ]
    }
   ],
   "source": [
    "print dict_"
   ]
  },
  {
   "cell_type": "code",
   "execution_count": 19,
   "metadata": {},
   "outputs": [
    {
     "name": "stdout",
     "output_type": "stream",
     "text": [
      "d\n"
     ]
    }
   ],
   "source": [
    "print(dict_.get(('',2)))"
   ]
  },
  {
   "cell_type": "code",
   "execution_count": 38,
   "metadata": {},
   "outputs": [
    {
     "data": {
      "text/plain": [
       "array([[ 0.43383474,  0.56781435,  0.01305527],\n",
       "       [ 0.81242951,  0.08728309,  0.47919375],\n",
       "       [ 0.65529068,  0.65217992,  0.63638195]])"
      ]
     },
     "execution_count": 38,
     "metadata": {},
     "output_type": "execute_result"
    }
   ],
   "source": [
    "a= np.random.uniform(size= (3,3))\n",
    "a"
   ]
  },
  {
   "cell_type": "code",
   "execution_count": 39,
   "metadata": {},
   "outputs": [],
   "source": [
    "b= np.where(a==1)"
   ]
  },
  {
   "cell_type": "code",
   "execution_count": 43,
   "metadata": {},
   "outputs": [
    {
     "data": {
      "text/plain": [
       "(array([], dtype=int64), array([], dtype=int64))"
      ]
     },
     "execution_count": 43,
     "metadata": {},
     "output_type": "execute_result"
    }
   ],
   "source": [
    "b"
   ]
  },
  {
   "cell_type": "code",
   "execution_count": 44,
   "metadata": {},
   "outputs": [
    {
     "name": "stdout",
     "output_type": "stream",
     "text": [
      "[['a', 'or', ['not', 'b']], 'and', ['c', 'or', 'd']]\n"
     ]
    }
   ],
   "source": [
    "def NOT(f):\n",
    "    return [\"not\", f]\n",
    "def AND(f1, f2):\n",
    "    return [f1, \"and\", f2]\n",
    "def OR(f1, f2):\n",
    "    return [f1, \"or\", f2]\n",
    "\n",
    "# example formula\n",
    "f = AND(OR(\"a\", NOT(\"b\")), OR(\"c\", \"d\"))\n",
    "print(f)"
   ]
  },
  {
   "cell_type": "code",
   "execution_count": 69,
   "metadata": {},
   "outputs": [],
   "source": [
    "def depth(f):\n",
    "    depths= []\n",
    "    print(len(f))\n",
    "    for item in f:\n",
    "        print('s')\n",
    "        if isinstance(item, list):\n",
    "            depths.append(depth(item))\n",
    "            print('asfasfs')\n",
    "    if len(depths) > 0:\n",
    "        return 1 + max(depths)\n",
    "    return 1"
   ]
  },
  {
   "cell_type": "code",
   "execution_count": 74,
   "metadata": {},
   "outputs": [
    {
     "name": "stdout",
     "output_type": "stream",
     "text": [
      "3\n",
      "s\n",
      "s\n",
      "s\n",
      "1\n",
      "1212131231\n",
      "1\n",
      "s\n",
      "1\n",
      "1212131231\n",
      "3\n",
      "s\n",
      "3\n",
      "s\n",
      "s\n",
      "s\n",
      "2\n",
      "s\n",
      "s\n",
      "asfasfs\n",
      "asfasfs\n",
      "s\n",
      "s\n",
      "3\n",
      "s\n",
      "s\n",
      "s\n",
      "asfasfs\n",
      "3\n"
     ]
    }
   ],
   "source": [
    "print(depth(AND(a,b)))\n",
    "print('1212131231')\n",
    "print(depth('a'))\n",
    "print('1212131231')\n",
    "print(depth(f))"
   ]
  },
  {
   "cell_type": "code",
   "execution_count": 76,
   "metadata": {
    "collapsed": true
   },
   "outputs": [],
   "source": [
    "def eval(f, model):\n",
    "    if type(f)==str:\n",
    "        return model[f]\n",
    "    if type(f)==list and len(f)==2 and f[0]==\"not\":\n",
    "        return not eval(f[1], model)\n",
    "    if type(f)==list and len(f)==3 and f[1]==\"and\":\n",
    "        return eval(f[0], model) and eval(f[2], model)\n",
    "    if type(f)==list and len(f)==3 and f[1]==\"or\":\n",
    "        return eval(f[0], model) or eval(f[2], model)\n"
   ]
  },
  {
   "cell_type": "code",
   "execution_count": 77,
   "metadata": {},
   "outputs": [
    {
     "data": {
      "text/plain": [
       "True"
      ]
     },
     "execution_count": 77,
     "metadata": {},
     "output_type": "execute_result"
    }
   ],
   "source": [
    "model = {\"a\":True, \"b\":False, \"c\":False, \"d\":True}\n",
    "eval(f, model)"
   ]
  },
  {
   "cell_type": "code",
   "execution_count": 78,
   "metadata": {
    "collapsed": true
   },
   "outputs": [],
   "source": [
    "def depth2(f):\n",
    "    if type(f)==str:\n",
    "        return 0\n",
    "    if type(f)==list and len(f)==2 and f[0]==\"not\":\n",
    "        return depth2(f[1]) +1\n",
    "    if type(f)==list and len(f)==3 and f[1]==\"and\":\n",
    "        return max(depth2(f[0]), depth2(f[2])) +1 \n",
    "    if type(f)==list and len(f)==3 and f[1]==\"or\":\n",
    "        return max(depth2(f[0]), depth2(f[2])) +1 \n"
   ]
  },
  {
   "cell_type": "code",
   "execution_count": 81,
   "metadata": {},
   "outputs": [
    {
     "name": "stdout",
     "output_type": "stream",
     "text": [
      "[['a', 'or', ['not', 'b']], 'and', ['c', 'or', 'd']]\n"
     ]
    },
    {
     "data": {
      "text/plain": [
       "3"
      ]
     },
     "execution_count": 81,
     "metadata": {},
     "output_type": "execute_result"
    }
   ],
   "source": [
    "f = AND(OR(\"a\", NOT(\"b\")), OR(\"c\", \"d\"))\n",
    "print(f)\n",
    "depth2(f)"
   ]
  },
  {
   "cell_type": "code",
   "execution_count": null,
   "metadata": {
    "collapsed": true
   },
   "outputs": [],
   "source": []
  }
 ],
 "metadata": {
  "kernelspec": {
   "display_name": "Python 2",
   "language": "python",
   "name": "python2"
  },
  "language_info": {
   "codemirror_mode": {
    "name": "ipython",
    "version": 2
   },
   "file_extension": ".py",
   "mimetype": "text/x-python",
   "name": "python",
   "nbconvert_exporter": "python",
   "pygments_lexer": "ipython2",
   "version": "2.7.13"
  }
 },
 "nbformat": 4,
 "nbformat_minor": 2
}
